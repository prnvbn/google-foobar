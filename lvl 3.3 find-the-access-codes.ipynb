{
 "cells": [
  {
   "cell_type": "code",
   "execution_count": 406,
   "metadata": {},
   "outputs": [],
   "source": [
    "def solution(l):\n",
    "    ll = len(l)\n",
    "    if ll == 2:\n",
    "        return 0\n",
    "\n",
    "    div_dict = dict()\n",
    "    count_dict = dict()\n",
    "    triples = set()\n",
    "    \n",
    "    # keeping track of all the divisible numbers using a dict\n",
    "    for i in range(ll):\n",
    "        li = l[i]\n",
    "        try:\n",
    "            count_dict[li] += 1\n",
    "        except KeyError:\n",
    "            count_dict[li] = 1\n",
    "            \n",
    "        for j in range(i):\n",
    "            lj = l[j]\n",
    "            if li % lj == 0:\n",
    "                div_dict.setdefault(lj, set([])).add((li))\n",
    "                \n",
    "    # counting the number of possible triples            \n",
    "    for li in list(set(l)):\n",
    "        try: \n",
    "            for lj in div_dict[li]:\n",
    "                if li == lj:\n",
    "                    count_dict[li] -= 1\n",
    "                try:\n",
    "                    for lk in div_dict[lj]:\n",
    "                        if lj == lk:\n",
    "                            count_dict[lj] -= 1\n",
    "                        if count_dict[lk] > 0:\n",
    "                            triples.add((li, lj, lk))\n",
    "                        if lj == lk:\n",
    "                            count_dict[lj] += 1    \n",
    "                except KeyError:\n",
    "                    continue\n",
    "                finally:\n",
    "                    if li == lj:\n",
    "                        count_dict[li] += 1\n",
    "        except KeyError:\n",
    "            continue\n",
    "    print triples        \n",
    "    return len(triples)"
   ]
  },
  {
   "cell_type": "code",
   "execution_count": 407,
   "metadata": {},
   "outputs": [
    {
     "name": "stdout",
     "output_type": "stream",
     "text": [
      "set([(2, 2, 2), (4, 8, 8), (2, 4, 8), (2, 2, 4), (2, 2, 6), (2, 4, 4), (4, 4, 8), (2, 2, 8), (8, 8, 8), (2, 8, 8)])\n",
      "10\n"
     ]
    }
   ],
   "source": [
    "# print solution([1, 2, 2, 2, 4])\n",
    "print solution([2, 2, 2, 2, 4, 4, 5, 6, 8, 8, 8])\n",
    "# print solution([1,1,1, 2])"
   ]
  },
  {
   "cell_type": "code",
   "execution_count": 292,
   "metadata": {},
   "outputs": [],
   "source": [
    "def answer(l):\n",
    "    cnt = 0\n",
    "    memo = [0] * len(l)\n",
    "    for i in xrange(len(l) - 1):\n",
    "        print i\n",
    "        for j in xrange(i + 1, len(l)):\n",
    "            if l[j] % l[i] == 0:\n",
    "                memo[j] += 1\n",
    "                cnt += memo[i]\n",
    "                print memo, j, cnt\n",
    "                \n",
    "    return cnt          "
   ]
  },
  {
   "cell_type": "code",
   "execution_count": 293,
   "metadata": {},
   "outputs": [
    {
     "name": "stdout",
     "output_type": "stream",
     "text": [
      "0\n",
      "[0, 1, 0, 0, 0, 0] 1 0\n",
      "[0, 1, 1, 0, 0, 0] 2 0\n",
      "[0, 1, 1, 1, 0, 0] 3 0\n",
      "[0, 1, 1, 1, 1, 0] 4 0\n",
      "[0, 1, 1, 1, 1, 1] 5 0\n",
      "1\n",
      "[0, 1, 1, 2, 1, 1] 3 1\n",
      "[0, 1, 1, 2, 1, 2] 5 2\n",
      "2\n",
      "[0, 1, 1, 2, 1, 3] 5 3\n",
      "3\n",
      "4\n"
     ]
    },
    {
     "data": {
      "text/plain": [
       "3"
      ]
     },
     "execution_count": 293,
     "metadata": {},
     "output_type": "execute_result"
    }
   ],
   "source": [
    "answer([1, 2, 3, 4, 5, 6])"
   ]
  },
  {
   "cell_type": "code",
   "execution_count": 421,
   "metadata": {},
   "outputs": [],
   "source": [
    "def answer(l):\n",
    "    count = 0\n",
    "    ll = len(l)\n",
    "    if ll < 3: return 0\n",
    "\n",
    "    cache = [0] * ll\n",
    "    for x in range(ll):\n",
    "        for y in range(x + 1, ll):\n",
    "            if l[y] % l[x] == 0:\n",
    "                cache[y] += 1\n",
    "                count += cache[x]\n",
    "\n",
    "    return count"
   ]
  },
  {
   "cell_type": "code",
   "execution_count": 422,
   "metadata": {},
   "outputs": [
    {
     "data": {
      "text/plain": [
       "3"
      ]
     },
     "execution_count": 422,
     "metadata": {},
     "output_type": "execute_result"
    }
   ],
   "source": [
    "answer([1, 2, 3, 4, 5, 6])"
   ]
  },
  {
   "cell_type": "code",
   "execution_count": 467,
   "metadata": {},
   "outputs": [],
   "source": [
    "def answer(l):\n",
    "    ll = len(l)\n",
    "    \n",
    "    if ll < 3:\n",
    "        return 0\n",
    "\n",
    "    triples_count = 0\n",
    "    li_pairs_count = 0\n",
    "    lk_pairs_count\n",
    "    # we iterate through all the possible values of lj\n",
    "    for j in range(1, ll - 1):\n",
    "        \n",
    "        li_pairs_count = len([li for li in l[:j] if l[j] % li == 0])  \n",
    "        lk_pairs_count = len([lk for lk in l[j + 1:] if lk % l[j] == 0])   \n",
    "\n",
    "        # Using simple combinatorics\n",
    "        triples_count += li_pairs_count * lk_pairs_count  \n",
    "    return triples_count"
   ]
  },
  {
   "cell_type": "code",
   "execution_count": 468,
   "metadata": {},
   "outputs": [
    {
     "data": {
      "text/plain": [
       "179"
      ]
     },
     "execution_count": 468,
     "metadata": {},
     "output_type": "execute_result"
    }
   ],
   "source": [
    "solutionx([1, 2, 3, 4, 5, 6])"
   ]
  },
  {
   "cell_type": "code",
   "execution_count": 521,
   "metadata": {},
   "outputs": [],
   "source": [
    "def ll(l):\n",
    "    if len(l) < 3:\n",
    "        return 0\n",
    "\n",
    "    triples_count  = 0\n",
    "    li_pairs_count = 0\n",
    "    lk_pairs_count = 0\n",
    "\n",
    "    for j in range(1, len(l) - 1):\n",
    "        li_pairs_count = len([1 for li in l[:j] if l[j] % li == 0])   \n",
    "        lk_pairs_count = len([1 for lk in l[j + 1:] if lk % l[j] == 0])   \n",
    "\n",
    "        triples_count += li_pairs_count * lk_pairs_count  # Possible combination should be the product\n",
    "    return triples_count"
   ]
  },
  {
   "cell_type": "code",
   "execution_count": 522,
   "metadata": {},
   "outputs": [
    {
     "data": {
      "text/plain": [
       "3"
      ]
     },
     "execution_count": 522,
     "metadata": {},
     "output_type": "execute_result"
    }
   ],
   "source": [
    "ll([1, 2, 3, 4, 5, 6])"
   ]
  },
  {
   "cell_type": "code",
   "execution_count": 501,
   "metadata": {},
   "outputs": [],
   "source": [
    "def solutionfb(l):\n",
    "    ll = len(l)\n",
    "    \n",
    "    if ll < 3:\n",
    "        return 0\n",
    "\n",
    "    triples_count  = 0\n",
    "    li_pairs_count = 0\n",
    "    lk_pairs_count = 0\n",
    "    \n",
    "    # going all the possible values of lj\n",
    "    for j in range(1, ll - 1):\n",
    "        for li in l[:j]:\n",
    "            if l[j] % li == 0:\n",
    "                li_pairs_count += 1\n",
    "        for lk in l[j + 1:]:\n",
    "            if lk % l[j] == 0:\n",
    "                lk_pairs_count += 1\n",
    "            \n",
    "        # Using simple combinatorics\n",
    "        triples_count += li_pairs_count * lk_pairs_count  \n",
    "    return triples_count\n",
    "\n"
   ]
  },
  {
   "cell_type": "code",
   "execution_count": 502,
   "metadata": {},
   "outputs": [
    {
     "data": {
      "text/plain": [
       "35"
      ]
     },
     "execution_count": 502,
     "metadata": {},
     "output_type": "execute_result"
    }
   ],
   "source": [
    "solutionfb([1,2,3,4,5,6])"
   ]
  },
  {
   "cell_type": "code",
   "execution_count": null,
   "metadata": {},
   "outputs": [],
   "source": []
  }
 ],
 "metadata": {
  "kernelspec": {
   "display_name": "Python 2",
   "language": "python",
   "name": "python2"
  },
  "language_info": {
   "codemirror_mode": {
    "name": "ipython",
    "version": 2
   },
   "file_extension": ".py",
   "mimetype": "text/x-python",
   "name": "python",
   "nbconvert_exporter": "python",
   "pygments_lexer": "ipython2",
   "version": "2.7.17"
  }
 },
 "nbformat": 4,
 "nbformat_minor": 2
}
