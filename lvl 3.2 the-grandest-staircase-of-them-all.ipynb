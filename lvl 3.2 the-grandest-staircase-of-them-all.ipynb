{
 "cells": [
  {
   "cell_type": "code",
   "execution_count": 326,
   "metadata": {},
   "outputs": [
    {
     "name": "stdout",
     "output_type": "stream",
     "text": [
      "2 487067745\n"
     ]
    }
   ],
   "source": [
    "def solution(n):\n",
    "\n",
    "    staircase = [1] + [0]* n\n",
    "\n",
    "    for i in range(1, n+1):\n",
    "        for j in range(n, i-1, -1):\n",
    "            staircase[j] += staircase[j-i]\n",
    "    return staircase[n] - 1\n",
    "print solution(5), solution(200)"
   ]
  },
  {
   "cell_type": "code",
   "execution_count": null,
   "metadata": {},
   "outputs": [],
   "source": []
  }
 ],
 "metadata": {
  "kernelspec": {
   "display_name": "Python 2",
   "language": "python",
   "name": "python2"
  },
  "language_info": {
   "codemirror_mode": {
    "name": "ipython",
    "version": 2
   },
   "file_extension": ".py",
   "mimetype": "text/x-python",
   "name": "python",
   "nbconvert_exporter": "python",
   "pygments_lexer": "ipython2",
   "version": "2.7.17"
  }
 },
 "nbformat": 4,
 "nbformat_minor": 2
}
