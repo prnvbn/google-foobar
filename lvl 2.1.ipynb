{
 "cells": [
  {
   "cell_type": "code",
   "execution_count": 1,
   "metadata": {},
   "outputs": [],
   "source": [
    "import string\n",
    "\n",
    "def solution(n, b):\n",
    "    s = sorted(n)\n",
    "    k = len(n)\n",
    "    l = []\n",
    "    x, y, z = calc_xyz(s,b)\n",
    "    \n",
    "    while True:\n",
    "        try:\n",
    "            l.index(z)\n",
    "            break\n",
    "        except ValueError:\n",
    "            l.append(z)\n",
    "            z = str(z)\n",
    "            z = z + '0' * (k - len(z)) # taknig care of the possibly missing zeroes\n",
    "            \n",
    "            x, y, z = calc_xyz(sorted(str(z)), b)\n",
    "        \n",
    "    return len(l) - l.index(z)\n",
    "    \n",
    "\"\"\"Produces the representation in base 'b' for a provided decimal no 'n'\"\"\"\n",
    "def decToBase(n, b):\n",
    "    if (n == 0):\n",
    "        return '0';\n",
    "    val = []\n",
    "    while n > 0:\n",
    "        val.insert(0, str(n % b))\n",
    "        n = n/b\n",
    "    return \"\".join(val) \n",
    "    \n",
    "\"\"\"Calculates x, y and z according to the given algorithm\"\"\"\n",
    "def calc_xyz(s, b):\n",
    "    x = int(\"\".join(s[::-1]), b)\n",
    "    y = int(\"\".join(s), b)\n",
    "    z = int(decToBase(x - y, b))\n",
    "    return x, y, z\n",
    "\n",
    "\n",
    "    "
   ]
  },
  {
   "cell_type": "code",
   "execution_count": 13,
   "metadata": {},
   "outputs": [
    {
     "data": {
      "text/plain": [
       "5"
      ]
     },
     "execution_count": 13,
     "metadata": {},
     "output_type": "execute_result"
    }
   ],
   "source": [
    "solution('12', 10)"
   ]
  },
  {
   "cell_type": "code",
   "execution_count": null,
   "metadata": {},
   "outputs": [],
   "source": []
  }
 ],
 "metadata": {
  "kernelspec": {
   "display_name": "Python 2",
   "language": "python",
   "name": "python2"
  },
  "language_info": {
   "codemirror_mode": {
    "name": "ipython",
    "version": 2
   },
   "file_extension": ".py",
   "mimetype": "text/x-python",
   "name": "python",
   "nbconvert_exporter": "python",
   "pygments_lexer": "ipython2",
   "version": "2.7.17"
  }
 },
 "nbformat": 4,
 "nbformat_minor": 2
}
