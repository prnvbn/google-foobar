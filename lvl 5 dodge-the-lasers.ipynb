{
 "cells": [
  {
   "cell_type": "code",
   "execution_count": 20,
   "metadata": {},
   "outputs": [],
   "source": [
    "# Beatty sequence - a(n) = floor(n*sqrt(2))\n",
    "# Earliest monotonic sequence greater than 0 satisfying the condition: \n",
    "# \"a(n) + 2n is not in the sequence\"\n",
    "\n",
    "#  Let m = floor(n *  (sqrt(2) - 1))\n",
    "#  Then summation of te beatty sequence for n upto n:\n",
    "#  S(n) = n*m + n*(n+1)/2 - m*(m+1) - S(m)\n",
    "\n",
    "# decimal places of sqrt(2) upto the 100th position\n",
    "sqrt2 = 4142135623730950488016887242096980785696718753769480731766797379907324784621070388503875343276415727\n",
    "\n",
    "\n",
    "def S(n):\n",
    "    # BASE CASE\n",
    "    if n == 1:\n",
    "        return 1\n",
    "    # EDGE CASE \n",
    "    if n < 1:\n",
    "        return 0\n",
    "        \n",
    "    # RECURSIVE CALL \n",
    "    m = (sqrt2 * n) // (10 ** 100)\n",
    "    return n*m + n*(n + 1)/2 - m*(m + 1)/2 - S(m)\n",
    "\n",
    "def solution(n):\n",
    "    n = long(n)\n",
    "    return str(S(n))\n"
   ]
  },
  {
   "cell_type": "code",
   "execution_count": 28,
   "metadata": {},
   "outputs": [
    {
     "data": {
      "text/plain": [
       "'4208'"
      ]
     },
     "execution_count": 28,
     "metadata": {},
     "output_type": "execute_result"
    }
   ],
   "source": [
    "solution('77')"
   ]
  },
  {
   "cell_type": "code",
   "execution_count": null,
   "metadata": {},
   "outputs": [],
   "source": []
  }
 ],
 "metadata": {
  "kernelspec": {
   "display_name": "Python 2",
   "language": "python",
   "name": "python2"
  },
  "language_info": {
   "codemirror_mode": {
    "name": "ipython",
    "version": 2
   },
   "file_extension": ".py",
   "mimetype": "text/x-python",
   "name": "python",
   "nbconvert_exporter": "python",
   "pygments_lexer": "ipython2",
   "version": "2.7.17"
  }
 },
 "nbformat": 4,
 "nbformat_minor": 2
}
