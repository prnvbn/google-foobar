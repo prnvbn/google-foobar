{
 "cells": [
  {
   "cell_type": "code",
   "execution_count": 3,
   "metadata": {},
   "outputs": [],
   "source": [
    "def solution(xs):\n",
    "    xsl = len(xs)\n",
    "   \n",
    "    if xsl == 1:\n",
    "        return xsl[0]\n",
    "    \n",
    "    prod = 1\n",
    "    zero_counter = 0\n",
    "    first_neg_no = True\n",
    "    \n",
    "    for x in xs:\n",
    "        if x == 0:\n",
    "                zero_counter = zero_counter + 1\n",
    "        else:\n",
    "            if x < 0:\n",
    "                if first_neg_no: # setting the first neg no\n",
    "                    smallest_abs_no = x\n",
    "                    first_neg_no = False\n",
    "                else:\n",
    "                    smallest_abs_no = max(x, smallest_abs_no)\n",
    "            prod = prod * x\n",
    "        \n",
    "   # currently prod = prod of all nos     \n",
    "                \n",
    "    if zero_counter == xsl: #EDGE CASE 1: all inputs are 0\n",
    "        return '0';\n",
    "    \n",
    "    if prod < 0:\n",
    "        if zero_counter == xsl - 1:#EDGE CASE 2: there is only one non-zero inpur whixh is neg\n",
    "            return '0'\n",
    "        return str(prod//smallest_abs_no)\n",
    "    return str(prod)\n",
    "        \n",
    "        "
   ]
  },
  {
   "cell_type": "code",
   "execution_count": 4,
   "metadata": {},
   "outputs": [
    {
     "data": {
      "text/plain": [
       "'8'"
      ]
     },
     "execution_count": 4,
     "metadata": {},
     "output_type": "execute_result"
    }
   ],
   "source": [
    "solution([2, 0, 2, 2, 0])"
   ]
  },
  {
   "cell_type": "code",
   "execution_count": null,
   "metadata": {},
   "outputs": [],
   "source": []
  }
 ],
 "metadata": {
  "kernelspec": {
   "display_name": "Python 2",
   "language": "python",
   "name": "python2"
  },
  "language_info": {
   "codemirror_mode": {
    "name": "ipython",
    "version": 2
   },
   "file_extension": ".py",
   "mimetype": "text/x-python",
   "name": "python",
   "nbconvert_exporter": "python",
   "pygments_lexer": "ipython2",
   "version": "2.7.17"
  }
 },
 "nbformat": 4,
 "nbformat_minor": 2
}
